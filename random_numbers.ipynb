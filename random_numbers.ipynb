{
 "cells": [
  {
   "cell_type": "code",
   "execution_count": 1,
   "id": "47020391",
   "metadata": {},
   "outputs": [],
   "source": [
    "# Import dependency\n",
    "import random"
   ]
  },
  {
   "cell_type": "code",
   "execution_count": 2,
   "id": "4265e483",
   "metadata": {},
   "outputs": [
    {
     "data": {
      "text/plain": [
       "43"
      ]
     },
     "execution_count": 2,
     "metadata": {},
     "output_type": "execute_result"
    }
   ],
   "source": [
    "# Random Integer function\n",
    "random.randint(-90,90)"
   ]
  },
  {
   "cell_type": "code",
   "execution_count": 3,
   "id": "26c0ebf6",
   "metadata": {},
   "outputs": [
    {
     "data": {
      "text/plain": [
       "0.07998291554930226"
      ]
     },
     "execution_count": 3,
     "metadata": {},
     "output_type": "execute_result"
    }
   ],
   "source": [
    "#random () function\n",
    "random.random()"
   ]
  },
  {
   "cell_type": "code",
   "execution_count": 4,
   "id": "f5f23e23",
   "metadata": {},
   "outputs": [
    {
     "data": {
      "text/plain": [
       "-70.77388876285501"
      ]
     },
     "execution_count": 4,
     "metadata": {},
     "output_type": "execute_result"
    }
   ],
   "source": [
    "# combining randint and random()\n",
    "random_number = random.randint(-90,89)+random.random()\n",
    "random_number"
   ]
  },
  {
   "cell_type": "code",
   "execution_count": 5,
   "id": "346af674",
   "metadata": {},
   "outputs": [
    {
     "data": {
      "text/plain": [
       "[14.092983765902577,\n",
       " -64.45842165298698,\n",
       " -72.66499924382074,\n",
       " -66.91601844950964,\n",
       " -35.454640008469276,\n",
       " 8.843145680538615,\n",
       " -48.90979702099932,\n",
       " 43.96580069040165,\n",
       " 25.845792274529376,\n",
       " -64.91984675362887]"
      ]
     },
     "execution_count": 5,
     "metadata": {},
     "output_type": "execute_result"
    }
   ],
   "source": [
    "# 10 random potential latitudes/longitudes\n",
    "x=1\n",
    "latitudes= []\n",
    "while x < 11:\n",
    "    random_lat = random.randint(-90, 89) + random.random()\n",
    "    latitudes.append(random_lat)\n",
    "    x += 1\n",
    "\n",
    "latitudes"
   ]
  },
  {
   "cell_type": "code",
   "execution_count": 6,
   "id": "862f6244",
   "metadata": {},
   "outputs": [
    {
     "data": {
      "text/plain": [
       "-69"
      ]
     },
     "execution_count": 6,
     "metadata": {},
     "output_type": "execute_result"
    }
   ],
   "source": [
    "# randrange function\n",
    "random.randrange(-90, 90, step=1)"
   ]
  },
  {
   "cell_type": "code",
   "execution_count": 7,
   "id": "2aa82010",
   "metadata": {},
   "outputs": [
    {
     "data": {
      "text/plain": [
       "-60"
      ]
     },
     "execution_count": 7,
     "metadata": {},
     "output_type": "execute_result"
    }
   ],
   "source": [
    "random.randrange(-90, 90, step=3)"
   ]
  },
  {
   "cell_type": "code",
   "execution_count": 8,
   "id": "3b72d794",
   "metadata": {},
   "outputs": [
    {
     "data": {
      "text/plain": [
       "78.8837643914807"
      ]
     },
     "execution_count": 8,
     "metadata": {},
     "output_type": "execute_result"
    }
   ],
   "source": [
    "# unifrom() function\n",
    "random.uniform(-90,90)"
   ]
  },
  {
   "cell_type": "code",
   "execution_count": 9,
   "id": "f9e20fe7",
   "metadata": {},
   "outputs": [],
   "source": [
    "# import the NumPy module\n",
    "import numpy as np"
   ]
  },
  {
   "cell_type": "code",
   "execution_count": 10,
   "id": "fde61ac5",
   "metadata": {},
   "outputs": [
    {
     "data": {
      "text/plain": [
       "78.73852113867841"
      ]
     },
     "execution_count": 10,
     "metadata": {},
     "output_type": "execute_result"
    }
   ],
   "source": [
    "np.random.uniform(-90.000, 90.000)"
   ]
  },
  {
   "cell_type": "code",
   "execution_count": 11,
   "id": "e3668398",
   "metadata": {},
   "outputs": [
    {
     "data": {
      "text/plain": [
       "-26.750687827570204"
      ]
     },
     "execution_count": 11,
     "metadata": {},
     "output_type": "execute_result"
    }
   ],
   "source": [
    "np.random.uniform(low=-90, high=90)"
   ]
  },
  {
   "cell_type": "code",
   "execution_count": 12,
   "id": "bf8c7158",
   "metadata": {},
   "outputs": [
    {
     "data": {
      "text/plain": [
       "array([ 4.28281743e+01,  5.96540099e+01, -7.80472550e+01,  5.19901308e+01,\n",
       "       -7.75956219e+01, -8.13792522e+01, -2.71729056e+00, -4.52181434e-02,\n",
       "        4.27064585e+00,  7.52262317e+01,  5.54447384e+01, -6.76129495e+01,\n",
       "       -3.25102261e+01, -9.84457710e+00, -7.68758986e+01, -4.99391462e+01,\n",
       "        8.92201033e+00,  5.00023883e+01,  6.44808573e+01, -5.32208515e+01,\n",
       "        5.08691145e+01,  5.48546642e+01,  1.44345153e+01, -5.03305676e+01,\n",
       "       -8.43620746e+01,  5.70678731e+01,  4.67595797e+00,  3.35150684e+01,\n",
       "        7.16595506e+01, -1.77385353e+01,  7.23749505e+01, -1.37328897e+01,\n",
       "        7.25684213e+01,  1.81372037e+01, -3.58390551e+01, -7.86073799e+01,\n",
       "        6.84051024e+01, -6.98265480e+01,  6.56001137e+01, -4.86407129e+01,\n",
       "        6.60931394e-01, -6.94689146e+01,  8.47743500e+01,  8.58329563e+01,\n",
       "        5.67968683e+01,  7.41758996e+01, -5.67677091e+01,  2.99767224e+01,\n",
       "       -2.90337832e+01,  6.87465219e+01])"
      ]
     },
     "execution_count": 12,
     "metadata": {},
     "output_type": "execute_result"
    }
   ],
   "source": [
    "np.random.uniform(-90.000, 90.000, size=50)"
   ]
  },
  {
   "cell_type": "code",
   "execution_count": 13,
   "id": "04570b0e",
   "metadata": {},
   "outputs": [],
   "source": [
    "# import timeit\n",
    "import timeit"
   ]
  },
  {
   "cell_type": "code",
   "execution_count": 14,
   "id": "baf7a910",
   "metadata": {},
   "outputs": [
    {
     "name": "stdout",
     "output_type": "stream",
     "text": [
      "34.6 µs ± 1.06 µs per loop (mean ± std. dev. of 7 runs, 10000 loops each)\n"
     ]
    }
   ],
   "source": [
    "%timeit np.random.uniform(-90.000, 90.000, size=1500)"
   ]
  },
  {
   "cell_type": "code",
   "execution_count": 15,
   "id": "dbf15deb",
   "metadata": {},
   "outputs": [
    {
     "name": "stdout",
     "output_type": "stream",
     "text": [
      "3.72 ms ± 110 µs per loop (mean ± std. dev. of 7 runs, 100 loops each)\n"
     ]
    }
   ],
   "source": [
    "def latitudes(size):\n",
    "    latitudes = []\n",
    "    x = 0\n",
    "    while x < (size):\n",
    "        random_lat = random.randint(-90, 90) + random.random()\n",
    "        latitudes.append(random_lat)\n",
    "        x += 1\n",
    "    return latitudes\n",
    "# Call the function with 1500.\n",
    "%timeit latitudes(1500)"
   ]
  },
  {
   "cell_type": "code",
   "execution_count": 16,
   "id": "9a346452",
   "metadata": {},
   "outputs": [],
   "source": [
    "# skill drill\n",
    "#latitudes = []\n",
    "    #x = 0\n",
    "    #while x < (size):\n",
    "        #random_lat = random.randint(-90, 90) + random.random()\n",
    "        #atitudes.append(random_lat)"
   ]
  },
  {
   "cell_type": "code",
   "execution_count": 17,
   "id": "7c4e7519",
   "metadata": {},
   "outputs": [],
   "source": [
    "# Import linear regression from the SciPy stats module.\n",
    "from scipy.stats import linregress"
   ]
  },
  {
   "cell_type": "code",
   "execution_count": 18,
   "id": "af527e1c",
   "metadata": {},
   "outputs": [],
   "source": [
    "# Create an equal number of latitudes and temperatures.\n",
    "lats = [42.5, 43.9, 8.1, 36.8, 79.9, 69.1, 25.7, 15.3, 12.7, 64.5]\n",
    "temps = [80.5, 75.3, 90.9, 90.0, 40.4, 62.3, 85.4, 79.6, 72.5, 72.0]"
   ]
  },
  {
   "cell_type": "code",
   "execution_count": 21,
   "id": "2046318f",
   "metadata": {},
   "outputs": [
    {
     "name": "stdout",
     "output_type": "stream",
     "text": [
      "y=-0.45x +92.94\n",
      "The p-value is: 0.011\n"
     ]
    }
   ],
   "source": [
    "# Perform linear regression.\n",
    "(slope, intercept, r_value, p_value, std_err) = linregress(lats, temps)\n",
    "\n",
    "# Get the equation of the line.\n",
    "line_eq = \"y=\" + str(round(slope,2)) + \"x +\" + str(round(intercept,2))\n",
    "print(line_eq)\n",
    "print(f\"The p-value is: {p_value:.3f}\")"
   ]
  },
  {
   "cell_type": "code",
   "execution_count": 22,
   "id": "c1b6981f",
   "metadata": {},
   "outputs": [],
   "source": [
    "# Calculate the regression line \"y values\" from the slope and intercept.\n",
    "regress_values = [(lat * slope + intercept) for lat in lats]"
   ]
  },
  {
   "cell_type": "code",
   "execution_count": 24,
   "id": "b6d4a9fb",
   "metadata": {},
   "outputs": [
    {
     "data": {
      "image/png": "[encoded data removed]",
      "text/plain": [
       "<Figure size 432x288 with 1 Axes>"
      ]
     },
     "metadata": {
      "needs_background": "light"
     },
     "output_type": "display_data"
    }
   ],
   "source": [
    "# Import Matplotlib.\n",
    "import matplotlib.pyplot as plt\n",
    "\n",
    "# Create a scatter plot of the x and y values.\n",
    "plt.scatter(lats, temps)\n",
    "\n",
    "# Plot the regression line with the x-values and the y coordinates based on the intercept and slope.\n",
    "plt.plot(lats,regress_values,\"r\")\n",
    "\n",
    "# Annotate the text for the line equation and add its coordinates.\n",
    "plt.annotate(line_eq, (10,40), fontsize=15, color=\"red\")\n",
    "plt.xlabel('Latitude')\n",
    "plt.ylabel('Temp')\n",
    "plt.show()"
   ]
  },
  {
   "cell_type": "code",
   "execution_count": null,
   "id": "763249dd",
   "metadata": {},
   "outputs": [],
   "source": []
  }
 ],
 "metadata": {
  "kernelspec": {
   "display_name": "PythonData",
   "language": "python",
   "name": "pythondata"
  },
  "language_info": {
   "codemirror_mode": {
    "name": "ipython",
    "version": 3
   },
   "file_extension": ".py",
   "mimetype": "text/x-python",
   "name": "python",
   "nbconvert_exporter": "python",
   "pygments_lexer": "ipython3",
   "version": "3.7.11"
  }
 },
 "nbformat": 4,
 "nbformat_minor": 5
}
