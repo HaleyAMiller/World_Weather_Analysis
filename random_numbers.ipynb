{
 "cells": [
  {
   "cell_type": "code",
   "execution_count": 1,
   "id": "47020391",
   "metadata": {},
   "outputs": [],
   "source": [
    "# Import dependency\n",
    "import random"
   ]
  },
  {
   "cell_type": "code",
   "execution_count": 2,
   "id": "4265e483",
   "metadata": {},
   "outputs": [
    {
     "data": {
      "text/plain": [
       "85"
      ]
     },
     "execution_count": 2,
     "metadata": {},
     "output_type": "execute_result"
    }
   ],
   "source": [
    "# Random Integer function\n",
    "random.randint(-90,90)"
   ]
  },
  {
   "cell_type": "code",
   "execution_count": 3,
   "id": "26c0ebf6",
   "metadata": {},
   "outputs": [
    {
     "data": {
      "text/plain": [
       "0.8918760490338492"
      ]
     },
     "execution_count": 3,
     "metadata": {},
     "output_type": "execute_result"
    }
   ],
   "source": [
    "#random () function\n",
    "random.random()"
   ]
  },
  {
   "cell_type": "code",
   "execution_count": 4,
   "id": "f5f23e23",
   "metadata": {},
   "outputs": [
    {
     "data": {
      "text/plain": [
       "67.20798996413745"
      ]
     },
     "execution_count": 4,
     "metadata": {},
     "output_type": "execute_result"
    }
   ],
   "source": [
    "# combining randint and random()\n",
    "random_number = random.randint(-90,89)+random.random()\n",
    "random_number"
   ]
  },
  {
   "cell_type": "code",
   "execution_count": 6,
   "id": "346af674",
   "metadata": {},
   "outputs": [
    {
     "data": {
      "text/plain": [
       "[72.89603416221799,\n",
       " -53.308054495291636,\n",
       " 48.08360349811643,\n",
       " -66.79470125330965,\n",
       " -80.37366300276025,\n",
       " 60.42983254587118,\n",
       " 81.11681013667202,\n",
       " 35.95530287747975,\n",
       " 42.805427690061414,\n",
       " -54.05474640577008]"
      ]
     },
     "execution_count": 6,
     "metadata": {},
     "output_type": "execute_result"
    }
   ],
   "source": [
    "# 10 random potential latitudes/longitudes\n",
    "x=1\n",
    "latitudes= []\n",
    "while x < 11:\n",
    "    random_lat = random.randint(-90, 89) + random.random()\n",
    "    latitudes.append(random_lat)\n",
    "    x += 1\n",
    "\n",
    "latitudes"
   ]
  },
  {
   "cell_type": "code",
   "execution_count": 8,
   "id": "862f6244",
   "metadata": {},
   "outputs": [
    {
     "data": {
      "text/plain": [
       "30"
      ]
     },
     "execution_count": 8,
     "metadata": {},
     "output_type": "execute_result"
    }
   ],
   "source": [
    "# randrange function\n",
    "random.randrange(-90, 90, step=1)"
   ]
  },
  {
   "cell_type": "code",
   "execution_count": 9,
   "id": "2aa82010",
   "metadata": {},
   "outputs": [
    {
     "data": {
      "text/plain": [
       "-36"
      ]
     },
     "execution_count": 9,
     "metadata": {},
     "output_type": "execute_result"
    }
   ],
   "source": [
    "random.randrange(-90, 90, step=3)"
   ]
  },
  {
   "cell_type": "code",
   "execution_count": 10,
   "id": "3b72d794",
   "metadata": {},
   "outputs": [
    {
     "data": {
      "text/plain": [
       "-86.48270107523042"
      ]
     },
     "execution_count": 10,
     "metadata": {},
     "output_type": "execute_result"
    }
   ],
   "source": [
    "# unifrom() function\n",
    "random.uniform(-90,90)"
   ]
  },
  {
   "cell_type": "code",
   "execution_count": 11,
   "id": "f9e20fe7",
   "metadata": {},
   "outputs": [],
   "source": [
    "# import the NumPy module\n",
    "import numpy as np"
   ]
  },
  {
   "cell_type": "code",
   "execution_count": 12,
   "id": "fde61ac5",
   "metadata": {},
   "outputs": [
    {
     "data": {
      "text/plain": [
       "59.06252802352208"
      ]
     },
     "execution_count": 12,
     "metadata": {},
     "output_type": "execute_result"
    }
   ],
   "source": [
    "np.random.uniform(-90.000, 90.000)"
   ]
  },
  {
   "cell_type": "code",
   "execution_count": 13,
   "id": "e3668398",
   "metadata": {},
   "outputs": [
    {
     "data": {
      "text/plain": [
       "-86.64773874692793"
      ]
     },
     "execution_count": 13,
     "metadata": {},
     "output_type": "execute_result"
    }
   ],
   "source": [
    "np.random.uniform(low=-90, high=90)"
   ]
  },
  {
   "cell_type": "code",
   "execution_count": 14,
   "id": "bf8c7158",
   "metadata": {},
   "outputs": [
    {
     "data": {
      "text/plain": [
       "array([ 43.35510469, -64.15601832, -48.84073827,  10.44672358,\n",
       "        12.15289007, -72.6174757 , -30.31854636,  18.90577361,\n",
       "        74.37835273, -28.95184112,  70.98523645,  21.75023768,\n",
       "       -25.62042395, -54.98113091,  -7.50111695,  86.58464881,\n",
       "       -14.87208558, -54.78856172,  -8.59709756, -21.09062976,\n",
       "        22.99921448, -24.03785027,  64.73224581,  53.03388372,\n",
       "       -60.787309  , -22.73436572,  16.17043976,  48.89321849,\n",
       "        40.06552389, -52.41130686, -26.50949925, -78.59090051,\n",
       "        28.38768075, -57.1531331 ,  43.02930892,  -8.0467158 ,\n",
       "       -14.74447674,  21.14822384,  11.37375531,   2.17526721,\n",
       "        86.40712725,   1.37209802,   8.55489845, -62.33603604,\n",
       "        41.65891161,  48.20817254, -85.56536362, -10.90060179,\n",
       "       -16.07039838,  29.35631547])"
      ]
     },
     "execution_count": 14,
     "metadata": {},
     "output_type": "execute_result"
    }
   ],
   "source": [
    "np.random.uniform(-90.000, 90.000, size=50)"
   ]
  },
  {
   "cell_type": "code",
   "execution_count": 15,
   "id": "04570b0e",
   "metadata": {},
   "outputs": [],
   "source": [
    "# import timeit\n",
    "import timeit"
   ]
  },
  {
   "cell_type": "code",
   "execution_count": 16,
   "id": "baf7a910",
   "metadata": {},
   "outputs": [
    {
     "name": "stdout",
     "output_type": "stream",
     "text": [
      "35 µs ± 2.17 µs per loop (mean ± std. dev. of 7 runs, 10000 loops each)\n"
     ]
    }
   ],
   "source": [
    "%timeit np.random.uniform(-90.000, 90.000, size=1500)"
   ]
  },
  {
   "cell_type": "code",
   "execution_count": null,
   "id": "dbf15deb",
   "metadata": {},
   "outputs": [],
   "source": [
    "def latitudes(size):\n",
    "    latitudes = []\n",
    "    x = 0\n",
    "    while x < (size):\n",
    "        random_lat = random.randint(-90, 90) + random.random()\n",
    "        latitudes.append(random_lat)\n",
    "        x += 1\n",
    "    return latitudes\n",
    "# Call the function with 1500.\n",
    "%timeit latitudes(1500)"
   ]
  },
  {
   "cell_type": "code",
   "execution_count": null,
   "id": "9a346452",
   "metadata": {},
   "outputs": [],
   "source": [
    "# skill drill\n",
    "#latitudes = []\n",
    "    #x = 0\n",
    "    #while x < (size):\n",
    "        #random_lat = random.randint(-90, 90) + random.random()\n",
    "        #atitudes.append(random_lat)"
   ]
  },
  {
   "cell_type": "code",
   "execution_count": null,
   "id": "7c4e7519",
   "metadata": {},
   "outputs": [],
   "source": []
  }
 ],
 "metadata": {
  "kernelspec": {
   "display_name": "PythonData",
   "language": "python",
   "name": "pythondata"
  },
  "language_info": {
   "codemirror_mode": {
    "name": "ipython",
    "version": 3
   },
   "file_extension": ".py",
   "mimetype": "text/x-python",
   "name": "python",
   "nbconvert_exporter": "python",
   "pygments_lexer": "ipython3",
   "version": "3.7.11"
  }
 },
 "nbformat": 4,
 "nbformat_minor": 5
}
